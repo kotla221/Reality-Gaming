{
 "cells": [
  {
   "cell_type": "code",
   "execution_count": 1,
   "metadata": {},
   "outputs": [],
   "source": [
    "import cv2\n",
    "import time\n",
    "import pyautogui"
   ]
  },
  {
   "cell_type": "code",
   "execution_count": 2,
   "metadata": {},
   "outputs": [
    {
     "data": {
      "text/plain": [
       "True"
      ]
     },
     "execution_count": 2,
     "metadata": {},
     "output_type": "execute_result"
    }
   ],
   "source": [
    "cap=cv2.VideoCapture(0)\n",
    "tracker= cv2.TrackerCSRT_create()\n",
    "success,img= cap.read()\n",
    "img = cv2.flip(img, 1)\n",
    "bbox= cv2.selectROI(\"tracking\",img,False)\n",
    "tracker.init(img,bbox)"
   ]
  },
  {
   "cell_type": "code",
   "execution_count": 3,
   "metadata": {},
   "outputs": [],
   "source": [
    "count =0\n",
    "def drawbox(img,bbox):\n",
    "    x,y,w,h= int(bbox[0]),int(bbox[1]),int(bbox[2]),int(bbox[3])\n",
    "    global count\n",
    "    if(x>300 and y>160 and x<340 and y <320):\n",
    "        count=0\n",
    "    if(x>0 and y<160):\n",
    "            print(\"up\")\n",
    "            pyautogui.keyDown('up')\n",
    "            pyautogui.keyUp('up')\n",
    "    elif(x>0 and y>320):\n",
    "            print(\"down\")\n",
    "            pyautogui.keyDown('down')\n",
    "            pyautogui.keyUp('down')\n",
    "    if(count<1):\n",
    "        if(x>340 and y>160):\n",
    "            print(\"right\")\n",
    "            pyautogui.keyDown('right')\n",
    "            pyautogui.keyUp('right')\n",
    "            count+=1\n",
    "        elif(x<300 and y>160):\n",
    "            print(\"left\")\n",
    "            pyautogui.keyDown('left')\n",
    "            pyautogui.keyUp('left')\n",
    "            count+=1\n",
    "            time.sleep(0.001)\n",
    "        \n",
    "        \n",
    "    cv2.circle(img,(x,y), 10,(255, 255, 0),3)"
   ]
  },
  {
   "cell_type": "code",
   "execution_count": 4,
   "metadata": {},
   "outputs": [
    {
     "name": "stdout",
     "output_type": "stream",
     "text": [
      "up\n",
      "up\n",
      "up\n",
      "up\n",
      "up\n",
      "up\n",
      "up\n",
      "up\n",
      "up\n",
      "up\n",
      "up\n",
      "left\n",
      "up\n",
      "down\n",
      "down\n",
      "down\n",
      "down\n",
      "right\n",
      "left\n",
      "right\n",
      "left\n",
      "right\n",
      "left\n",
      "down\n",
      "down\n",
      "left\n",
      "left\n",
      "up\n",
      "up\n",
      "up\n",
      "right\n",
      "up\n",
      "up\n",
      "up\n",
      "up\n"
     ]
    }
   ],
   "source": [
    "while True:\n",
    "    timer= cv2.getTickCount()\n",
    "    success,img= cap.read()\n",
    "    img = cv2.flip(img, 1)\n",
    "    cv2.line(img,(0,160),(640,160),(0,224,19),2)\n",
    "    cv2.line(img,(0,320),(640,320),(0,224,19),2)\n",
    "    cv2.line(img,(300,0),(300,480),(0,224,19),2)\n",
    "    cv2.line(img,(340,0),(340,480),(0,224,19),2)\n",
    "    success,bbox= tracker.update(img)\n",
    "    if success:\n",
    "        drawbox(img,bbox)\n",
    "    else:\n",
    "        cv2.putText(img,\"lost\",(75,50),cv2.FONT_HERSHEY_COMPLEX,0.8,(0,223,0),2)\n",
    "    fps=cv2.getTickFrequency()/(cv2.getTickCount()-timer)\n",
    "    cv2.putText(img,str(int(fps)),(7,50),cv2.FONT_HERSHEY_COMPLEX,0.8,(0,223,0),2)\n",
    "    cv2.imshow(\"video\",img)\n",
    "    if cv2.waitKey(1) == ord('q'):\n",
    "        break"
   ]
  },
  {
   "cell_type": "code",
   "execution_count": null,
   "metadata": {},
   "outputs": [],
   "source": []
  },
  {
   "cell_type": "code",
   "execution_count": null,
   "metadata": {},
   "outputs": [],
   "source": []
  }
 ],
 "metadata": {
  "kernelspec": {
   "display_name": "Python 3",
   "language": "python",
   "name": "python3"
  },
  "language_info": {
   "codemirror_mode": {
    "name": "ipython",
    "version": 3
   },
   "file_extension": ".py",
   "mimetype": "text/x-python",
   "name": "python",
   "nbconvert_exporter": "python",
   "pygments_lexer": "ipython3",
   "version": "3.7.3"
  }
 },
 "nbformat": 4,
 "nbformat_minor": 2
}
